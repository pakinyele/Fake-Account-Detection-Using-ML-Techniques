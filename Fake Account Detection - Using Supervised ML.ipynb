{
 "cells": [
  {
   "cell_type": "markdown",
   "metadata": {},
   "source": [
    "IMPORT SECTION"
   ]
  },
  {
   "cell_type": "code",
   "execution_count": 1,
   "metadata": {},
   "outputs": [],
   "source": [
    "import numpy as np\n",
    "import pandas as pd\n",
    "import matplotlib.pyplot as plt\n",
    "from sklearn import svm\n",
    "from sklearn import tree\n",
    "from sklearn.metrics import cohen_kappa_score\n",
    "from sklearn.datasets import load_iris\n",
    "from sklearn.model_selection import train_test_split\n",
    "from sklearn.model_selection import GridSearchCV, cross_val_score\n",
    "from sklearn.model_selection import KFold, cross_val_score\n",
    "from sklearn.naive_bayes import GaussianNB\n",
    "from sklearn import linear_model\n",
    "from sklearn.cluster import KMeans\n",
    "from sklearn.neighbors import NearestCentroid\n"
   ]
  },
  {
   "cell_type": "markdown",
   "metadata": {},
   "source": [
    "# READING THE DATSET CSV"
   ]
  },
  {
   "cell_type": "code",
   "execution_count": 2,
   "metadata": {},
   "outputs": [],
   "source": [
    "train_set = pd.read_csv(\"CE802_Ass_2019_Data.csv\")\n",
    "\n",
    "x1_train_set = train_set.iloc[:,:-1]\n",
    "x2_train_set = train_set.iloc[:,:-2]\n",
    "y_trained_set = train_set.iloc[:,-1].astype(str)\n"
   ]
  },
  {
   "cell_type": "markdown",
   "metadata": {},
   "source": [
    "TRANSFORM TRAIN SET WITH MEAN VALUE "
   ]
  },
  {
   "cell_type": "code",
   "execution_count": 3,
   "metadata": {},
   "outputs": [],
   "source": [
    "from sklearn.impute import SimpleImputer\n",
    "imp = SimpleImputer(missing_values = np.nan, strategy = 'mean')\n",
    "imp.fit(x1_train_set)\n",
    "x1_transform = imp.transform(x1_train_set)\n",
    "#x1_transform"
   ]
  },
  {
   "cell_type": "code",
   "execution_count": 4,
   "metadata": {},
   "outputs": [],
   "source": [
    "imp.fit(x2_train_set)\n",
    "x2_transform = imp.transform(x2_train_set)"
   ]
  },
  {
   "cell_type": "markdown",
   "metadata": {},
   "source": [
    "TRANSFORM TRAIN SET WITH MEDIAN VALUE "
   ]
  },
  {
   "cell_type": "code",
   "execution_count": 5,
   "metadata": {},
   "outputs": [],
   "source": [
    "from sklearn.impute import SimpleImputer\n",
    "imp1 = SimpleImputer(missing_values = np.nan, strategy = 'median')\n",
    "imp1.fit(x1_train_set)\n",
    "x1_transformed = imp1.transform(x1_train_set)\n",
    "#x1_transformed"
   ]
  },
  {
   "cell_type": "markdown",
   "metadata": {},
   "source": [
    "TRANSFORM TRAIN SET WITH MOST FREQUENT VALUE (MODE)"
   ]
  },
  {
   "cell_type": "code",
   "execution_count": 6,
   "metadata": {},
   "outputs": [],
   "source": [
    "from sklearn.impute import SimpleImputer\n",
    "imp2 = SimpleImputer(missing_values = np.nan, strategy = 'most_frequent')\n",
    "imp2.fit(x1_train_set)\n",
    "x1_transformedmode = imp2.transform(x1_train_set)\n",
    "#x1_transformedmode"
   ]
  },
  {
   "cell_type": "markdown",
   "metadata": {},
   "source": [
    "# USING DECISION TREES CLASSIFIER\n"
   ]
  },
  {
   "cell_type": "markdown",
   "metadata": {},
   "source": [
    "USING THE TRANSFORMED DATA SET X1 (MEAN) - WITH THE MISSING VALUES (Nan) \n"
   ]
  },
  {
   "cell_type": "code",
   "execution_count": 7,
   "metadata": {},
   "outputs": [
    {
     "name": "stdout",
     "output_type": "stream",
     "text": [
      "The average accuracy is: 0.5880000000000001\n",
      "The average Kappa is: 0.1333605525164367\n"
     ]
    }
   ],
   "source": [
    "score = []\n",
    "kappa_statistic = []\n",
    "\n",
    "\n",
    "clf = tree.DecisionTreeClassifier(max_depth = 5)\n",
    "k_fold = KFold(n_splits = 10)\n",
    "\n",
    "for train_indices, test_indices in k_fold.split(x1_transform):\n",
    "    \n",
    "    clf.fit(x1_transform[train_indices], y_trained_set[train_indices])\n",
    "    score.append(clf.score(x1_transform[test_indices], y_trained_set[test_indices]))\n",
    "    \n",
    "    y_predicted = clf.predict(x1_transform[test_indices])\n",
    "    \n",
    "    kappa_statistic.append(cohen_kappa_score(y_predicted, y_trained_set[test_indices]))\n",
    "\n",
    "print('The average accuracy is:', np.mean(score))\n",
    "print('The average Kappa is:', np.mean(kappa_statistic))"
   ]
  },
  {
   "cell_type": "code",
   "execution_count": 8,
   "metadata": {},
   "outputs": [
    {
     "data": {
      "text/plain": [
       "[Text(148.8, 195.696, 'X[2] <= 2.45\\ngini = 0.667\\nsamples = 150\\nvalue = [50, 50, 50]'),\n",
       " Text(111.60000000000001, 152.208, 'gini = 0.0\\nsamples = 50\\nvalue = [50, 0, 0]'),\n",
       " Text(186.0, 152.208, 'X[3] <= 1.75\\ngini = 0.5\\nsamples = 100\\nvalue = [0, 50, 50]'),\n",
       " Text(111.60000000000001, 108.72, 'X[2] <= 4.95\\ngini = 0.168\\nsamples = 54\\nvalue = [0, 49, 5]'),\n",
       " Text(74.4, 65.232, 'X[3] <= 1.65\\ngini = 0.041\\nsamples = 48\\nvalue = [0, 47, 1]'),\n",
       " Text(37.2, 21.744, 'gini = 0.0\\nsamples = 47\\nvalue = [0, 47, 0]'),\n",
       " Text(111.60000000000001, 21.744, 'gini = 0.0\\nsamples = 1\\nvalue = [0, 0, 1]'),\n",
       " Text(148.8, 65.232, 'gini = 0.444\\nsamples = 6\\nvalue = [0, 2, 4]'),\n",
       " Text(260.40000000000003, 108.72, 'X[2] <= 4.85\\ngini = 0.043\\nsamples = 46\\nvalue = [0, 1, 45]'),\n",
       " Text(223.20000000000002, 65.232, 'gini = 0.444\\nsamples = 3\\nvalue = [0, 1, 2]'),\n",
       " Text(297.6, 65.232, 'gini = 0.0\\nsamples = 43\\nvalue = [0, 0, 43]')]"
      ]
     },
     "execution_count": 8,
     "metadata": {},
     "output_type": "execute_result"
    },
    {
     "data": {
      "image/png": "[encoded data removed]",
      "text/plain": [
       "<Figure size 432x288 with 1 Axes>"
      ]
     },
     "metadata": {
      "needs_background": "light"
     },
     "output_type": "display_data"
    }
   ],
   "source": [
    "from sklearn.datasets import load_iris\n",
    "from sklearn import tree\n",
    "X = x1_train_set\n",
    "y = y_trained_set\n",
    "X, y = load_iris(return_X_y=True)\n",
    "clf = tree.DecisionTreeClassifier(min_samples_split=20, random_state=99)\n",
    "clf = clf.fit(X, y)\n",
    "tree.plot_tree(clf.fit(X, y)) \n",
    "\n",
    "\n"
   ]
  },
  {
   "cell_type": "markdown",
   "metadata": {},
   "source": [
    "USING THE DATA SET X2 - WITHOUT THE MISSING VALUES (no Nan) "
   ]
  },
  {
   "cell_type": "code",
   "execution_count": 9,
   "metadata": {},
   "outputs": [
    {
     "name": "stdout",
     "output_type": "stream",
     "text": [
      "The average accuracy is: 0.528\n",
      "The average Kappa is: 0.040553684162964856\n"
     ]
    }
   ],
   "source": [
    "score = []\n",
    "kappa_statistic = []\n",
    "\n",
    "clf = tree.DecisionTreeClassifier(max_depth = 5)\n",
    "k_fold = KFold(n_splits = 10)\n",
    "\n",
    "for train_indices, test_indices in k_fold.split(x2_transform):\n",
    "    \n",
    "    clf.fit(x2_transform[train_indices], y_trained_set[train_indices])\n",
    "    score.append(clf.score(x2_transform[test_indices], y_trained_set[test_indices]))\n",
    "    \n",
    "    y_predicted = clf.predict(x2_transform[test_indices])\n",
    "    \n",
    "    kappa_statistic.append(cohen_kappa_score(y_predicted, y_trained_set[test_indices]))\n",
    "\n",
    "print('The average accuracy is:', np.mean(score))\n",
    "print('The average Kappa is:', np.mean(kappa_statistic))"
   ]
  },
  {
   "cell_type": "code",
   "execution_count": 10,
   "metadata": {},
   "outputs": [
    {
     "data": {
      "text/plain": [
       "[Text(148.8, 195.696, 'X[2] <= 2.45\\ngini = 0.667\\nsamples = 150\\nvalue = [50, 50, 50]'),\n",
       " Text(111.60000000000001, 152.208, 'gini = 0.0\\nsamples = 50\\nvalue = [50, 0, 0]'),\n",
       " Text(186.0, 152.208, 'X[3] <= 1.75\\ngini = 0.5\\nsamples = 100\\nvalue = [0, 50, 50]'),\n",
       " Text(111.60000000000001, 108.72, 'X[2] <= 4.95\\ngini = 0.168\\nsamples = 54\\nvalue = [0, 49, 5]'),\n",
       " Text(74.4, 65.232, 'X[3] <= 1.65\\ngini = 0.041\\nsamples = 48\\nvalue = [0, 47, 1]'),\n",
       " Text(37.2, 21.744, 'gini = 0.0\\nsamples = 47\\nvalue = [0, 47, 0]'),\n",
       " Text(111.60000000000001, 21.744, 'gini = 0.0\\nsamples = 1\\nvalue = [0, 0, 1]'),\n",
       " Text(148.8, 65.232, 'gini = 0.444\\nsamples = 6\\nvalue = [0, 2, 4]'),\n",
       " Text(260.40000000000003, 108.72, 'X[2] <= 4.85\\ngini = 0.043\\nsamples = 46\\nvalue = [0, 1, 45]'),\n",
       " Text(223.20000000000002, 65.232, 'gini = 0.444\\nsamples = 3\\nvalue = [0, 1, 2]'),\n",
       " Text(297.6, 65.232, 'gini = 0.0\\nsamples = 43\\nvalue = [0, 0, 43]')]"
      ]
     },
     "execution_count": 10,
     "metadata": {},
     "output_type": "execute_result"
    },
    {
     "data": {
      "image/png": "[encoded data removed]",
      "text/plain": [
       "<Figure size 432x288 with 1 Axes>"
      ]
     },
     "metadata": {
      "needs_background": "light"
     },
     "output_type": "display_data"
    }
   ],
   "source": [
    "from sklearn.datasets import load_iris\n",
    "from sklearn import tree\n",
    "X = x2_transform\n",
    "y = y_trained_set\n",
    "X, y = load_iris(return_X_y=True)\n",
    "clf = tree.DecisionTreeClassifier(min_samples_split=20, random_state=99)\n",
    "clf = clf.fit(X, y)\n",
    "tree.plot_tree(clf.fit(X, y))"
   ]
  },
  {
   "cell_type": "markdown",
   "metadata": {},
   "source": [
    "USING THE TRANSFORMED DATA SET X1 (MEDIAN) - WITH THE MISSING VALUES (Nan) "
   ]
  },
  {
   "cell_type": "code",
   "execution_count": 11,
   "metadata": {},
   "outputs": [
    {
     "name": "stdout",
     "output_type": "stream",
     "text": [
      "The average accuracy is: 0.584\n",
      "The average Kappa is: 0.12575015612593426\n"
     ]
    }
   ],
   "source": [
    "score = []\n",
    "kappa_statistic = []\n",
    "\n",
    "#x1_transform, y_trained_set = load_iris(return_X_y=True)\n",
    "clf = tree.DecisionTreeClassifier(max_depth = 5)\n",
    "k_fold = KFold(n_splits = 10)\n",
    "\n",
    "for train_indices, test_indices in k_fold.split(x1_transform):\n",
    "    \n",
    "    clf.fit(x1_transformed[train_indices], y_trained_set[train_indices])\n",
    "    score.append(clf.score(x1_transformed[test_indices], y_trained_set[test_indices]))\n",
    "    \n",
    "    y_predicted = clf.predict(x1_transformed[test_indices])\n",
    "    \n",
    "    kappa_statistic.append(cohen_kappa_score(y_predicted, y_trained_set[test_indices]))\n",
    "\n",
    "print('The average accuracy is:', np.mean(score))\n",
    "print('The average Kappa is:', np.mean(kappa_statistic))"
   ]
  },
  {
   "cell_type": "code",
   "execution_count": 12,
   "metadata": {},
   "outputs": [
    {
     "data": {
      "text/plain": [
       "[Text(148.8, 195.696, 'X[2] <= 2.45\\ngini = 0.667\\nsamples = 150\\nvalue = [50, 50, 50]'),\n",
       " Text(111.60000000000001, 152.208, 'gini = 0.0\\nsamples = 50\\nvalue = [50, 0, 0]'),\n",
       " Text(186.0, 152.208, 'X[3] <= 1.75\\ngini = 0.5\\nsamples = 100\\nvalue = [0, 50, 50]'),\n",
       " Text(111.60000000000001, 108.72, 'X[2] <= 4.95\\ngini = 0.168\\nsamples = 54\\nvalue = [0, 49, 5]'),\n",
       " Text(74.4, 65.232, 'X[3] <= 1.65\\ngini = 0.041\\nsamples = 48\\nvalue = [0, 47, 1]'),\n",
       " Text(37.2, 21.744, 'gini = 0.0\\nsamples = 47\\nvalue = [0, 47, 0]'),\n",
       " Text(111.60000000000001, 21.744, 'gini = 0.0\\nsamples = 1\\nvalue = [0, 0, 1]'),\n",
       " Text(148.8, 65.232, 'gini = 0.444\\nsamples = 6\\nvalue = [0, 2, 4]'),\n",
       " Text(260.40000000000003, 108.72, 'X[2] <= 4.85\\ngini = 0.043\\nsamples = 46\\nvalue = [0, 1, 45]'),\n",
       " Text(223.20000000000002, 65.232, 'gini = 0.444\\nsamples = 3\\nvalue = [0, 1, 2]'),\n",
       " Text(297.6, 65.232, 'gini = 0.0\\nsamples = 43\\nvalue = [0, 0, 43]')]"
      ]
     },
     "execution_count": 12,
     "metadata": {},
     "output_type": "execute_result"
    },
    {
     "data": {
      "image/png": "[encoded data removed]",
      "text/plain": [
       "<Figure size 432x288 with 1 Axes>"
      ]
     },
     "metadata": {
      "needs_background": "light"
     },
     "output_type": "display_data"
    }
   ],
   "source": [
    "from sklearn.datasets import load_iris\n",
    "from sklearn import tree\n",
    "X = x1_transformed\n",
    "y = y_trained_set\n",
    "X, y = load_iris(return_X_y=True)\n",
    "clf = tree.DecisionTreeClassifier(min_samples_split=20, random_state=99)\n",
    "clf = clf.fit(X, y)\n",
    "tree.plot_tree(clf.fit(X, y))"
   ]
  },
  {
   "cell_type": "markdown",
   "metadata": {},
   "source": [
    "USING THE TRANSFORMED DATA SET X1 (MOST FREQUENT) - WITHOUT THE MISSING VALUES (no Nan) "
   ]
  },
  {
   "cell_type": "code",
   "execution_count": 13,
   "metadata": {},
   "outputs": [
    {
     "name": "stdout",
     "output_type": "stream",
     "text": [
      "The average accuracy is: 0.584\n",
      "The average Kappa is: 0.13068885863633142\n"
     ]
    }
   ],
   "source": [
    "score = []\n",
    "kappa_statistic = []\n",
    "\n",
    "clf = tree.DecisionTreeClassifier(max_depth = 5)\n",
    "k_fold = KFold(n_splits = 10)\n",
    "\n",
    "for train_indices, test_indices in k_fold.split(x1_transformedmode):\n",
    "    \n",
    "    clf.fit(x1_transformedmode[train_indices], y_trained_set[train_indices])\n",
    "    score.append(clf.score(x1_transformedmode[test_indices], y_trained_set[test_indices]))\n",
    "    \n",
    "    y_predicted = clf.predict(x1_transformedmode[test_indices])\n",
    "    \n",
    "    kappa_statistic.append(cohen_kappa_score(y_predicted, y_trained_set[test_indices]))\n",
    "\n",
    "print('The average accuracy is:', np.mean(score))\n",
    "print('The average Kappa is:', np.mean(kappa_statistic))"
   ]
  },
  {
   "cell_type": "code",
   "execution_count": 14,
   "metadata": {},
   "outputs": [
    {
     "data": {
      "text/plain": [
       "[Text(148.8, 195.696, 'X[2] <= 2.45\\ngini = 0.667\\nsamples = 150\\nvalue = [50, 50, 50]'),\n",
       " Text(111.60000000000001, 152.208, 'gini = 0.0\\nsamples = 50\\nvalue = [50, 0, 0]'),\n",
       " Text(186.0, 152.208, 'X[3] <= 1.75\\ngini = 0.5\\nsamples = 100\\nvalue = [0, 50, 50]'),\n",
       " Text(111.60000000000001, 108.72, 'X[2] <= 4.95\\ngini = 0.168\\nsamples = 54\\nvalue = [0, 49, 5]'),\n",
       " Text(74.4, 65.232, 'X[3] <= 1.65\\ngini = 0.041\\nsamples = 48\\nvalue = [0, 47, 1]'),\n",
       " Text(37.2, 21.744, 'gini = 0.0\\nsamples = 47\\nvalue = [0, 47, 0]'),\n",
       " Text(111.60000000000001, 21.744, 'gini = 0.0\\nsamples = 1\\nvalue = [0, 0, 1]'),\n",
       " Text(148.8, 65.232, 'gini = 0.444\\nsamples = 6\\nvalue = [0, 2, 4]'),\n",
       " Text(260.40000000000003, 108.72, 'X[2] <= 4.85\\ngini = 0.043\\nsamples = 46\\nvalue = [0, 1, 45]'),\n",
       " Text(223.20000000000002, 65.232, 'gini = 0.444\\nsamples = 3\\nvalue = [0, 1, 2]'),\n",
       " Text(297.6, 65.232, 'gini = 0.0\\nsamples = 43\\nvalue = [0, 0, 43]')]"
      ]
     },
     "execution_count": 14,
     "metadata": {},
     "output_type": "execute_result"
    },
    {
     "data": {
      "image/png": "[encoded data removed]",
      "text/plain": [
       "<Figure size 432x288 with 1 Axes>"
      ]
     },
     "metadata": {
      "needs_background": "light"
     },
     "output_type": "display_data"
    }
   ],
   "source": [
    "from sklearn.datasets import load_iris\n",
    "from sklearn import tree\n",
    "X = x1_transformedmode\n",
    "y = y_trained_set\n",
    "X, y = load_iris(return_X_y=True)\n",
    "clf = tree.DecisionTreeClassifier(min_samples_split=20, random_state=99)\n",
    "clf = clf.fit(X, y)\n",
    "tree.plot_tree(clf.fit(X, y))"
   ]
  },
  {
   "cell_type": "code",
   "execution_count": 15,
   "metadata": {},
   "outputs": [],
   "source": [
    "#tree.plot_tree(clf.fit(iris.train_set, iris.test_set)) "
   ]
  },
  {
   "cell_type": "markdown",
   "metadata": {},
   "source": [
    "# USING GAUSSIAN NAIVE BAYES"
   ]
  },
  {
   "cell_type": "markdown",
   "metadata": {},
   "source": [
    "USING THE DATA SET X1(mean imputation)"
   ]
  },
  {
   "cell_type": "code",
   "execution_count": 16,
   "metadata": {},
   "outputs": [
    {
     "name": "stdout",
     "output_type": "stream",
     "text": [
      "The average accuracy is: 0.5279999999999999\n",
      "The average Kappa is: 0.006360795189332869\n"
     ]
    }
   ],
   "source": [
    "score = []\n",
    "kappa_statistic = []\n",
    "\n",
    "clf =  GaussianNB()\n",
    "k_fold = KFold(n_splits = 10)\n",
    "\n",
    "for train_indices, test_indices in k_fold.split(x1_transform):\n",
    "    \n",
    "    clf.fit(x1_transform[train_indices], y_trained_set[train_indices])\n",
    "    score.append(clf.score(x1_transform[test_indices], y_trained_set[test_indices]))\n",
    "    \n",
    "    y_predicted = clf.predict(x1_transform[test_indices])\n",
    "    \n",
    "    kappa_statistic.append(cohen_kappa_score(y_predicted, y_trained_set[test_indices]))\n",
    "\n",
    "print('The average accuracy is:', np.mean(score))\n",
    "print('The average Kappa is:', np.mean(kappa_statistic))"
   ]
  },
  {
   "cell_type": "markdown",
   "metadata": {},
   "source": [
    "USING THE DATA SET X2 - WITHOUT THE MISSING VALUES (Nan)"
   ]
  },
  {
   "cell_type": "code",
   "execution_count": 17,
   "metadata": {},
   "outputs": [
    {
     "name": "stdout",
     "output_type": "stream",
     "text": [
      "The average accuracy is: 0.516\n",
      "The average Kappa is: -0.012321998389970824\n"
     ]
    }
   ],
   "source": [
    "score = []\n",
    "kappa_statistic = []\n",
    "\n",
    "clf =  GaussianNB()\n",
    "k_fold = KFold(n_splits = 10)\n",
    "for train_indices, test_indices in k_fold.split(x2_transform):\n",
    "    \n",
    "    clf.fit(x2_transform[train_indices], y_trained_set[train_indices])\n",
    "    score.append(clf.score(x2_transform[test_indices], y_trained_set[test_indices]))\n",
    "    \n",
    "    y_predicted = clf.predict(x2_transform[test_indices])\n",
    "    \n",
    "    kappa_statistic.append(cohen_kappa_score(y_predicted, y_trained_set[test_indices]))\n",
    "\n",
    "print('The average accuracy is:', np.mean(score))\n",
    "print('The average Kappa is:', np.mean(kappa_statistic))"
   ]
  },
  {
   "cell_type": "markdown",
   "metadata": {},
   "source": [
    "USING THE TRANSFORMED DATA SET X1 (MEDIAN) - WITH THE MISSING VALUES (Nan) "
   ]
  },
  {
   "cell_type": "code",
   "execution_count": 18,
   "metadata": {},
   "outputs": [
    {
     "name": "stdout",
     "output_type": "stream",
     "text": [
      "The average accuracy is: 0.526\n",
      "The average Kappa is: 0.004886817853971259\n"
     ]
    }
   ],
   "source": [
    "score = []\n",
    "kappa_statistic = []\n",
    "\n",
    "clf =  GaussianNB()\n",
    "k_fold = KFold(n_splits = 10)\n",
    "\n",
    "for train_indices, test_indices in k_fold.split(x1_transformed):\n",
    "    \n",
    "    clf.fit(x1_transformed[train_indices], y_trained_set[train_indices])\n",
    "    score.append(clf.score(x1_transformed[test_indices], y_trained_set[test_indices]))\n",
    "    \n",
    "    y_predicted = clf.predict(x1_transformed[test_indices])\n",
    "    \n",
    "    kappa_statistic.append(cohen_kappa_score(y_predicted, y_trained_set[test_indices]))\n",
    "\n",
    "print('The average accuracy is:', np.mean(score))\n",
    "print('The average Kappa is:', np.mean(kappa_statistic))"
   ]
  },
  {
   "cell_type": "markdown",
   "metadata": {},
   "source": [
    "USING THE TRANSFORMED DATA SET X1 (MOST FREQUENT) - WITHOUT THE MISSING VALUES (no Nan) "
   ]
  },
  {
   "cell_type": "code",
   "execution_count": 19,
   "metadata": {},
   "outputs": [
    {
     "name": "stdout",
     "output_type": "stream",
     "text": [
      "The average accuracy is: 0.526\n",
      "The average Kappa is: 0.0016060111837802316\n"
     ]
    }
   ],
   "source": [
    "score = []\n",
    "kappa_statistic = []\n",
    "\n",
    "clf =  GaussianNB()\n",
    "k_fold = KFold(n_splits = 10)\n",
    "\n",
    "for train_indices, test_indices in k_fold.split(x1_transformedmode):\n",
    "    \n",
    "    clf.fit(x1_transformedmode[train_indices], y_trained_set[train_indices])\n",
    "    score.append(clf.score(x1_transformedmode[test_indices], y_trained_set[test_indices]))\n",
    "    \n",
    "    y_predicted = clf.predict(x1_transformedmode[test_indices])\n",
    "    \n",
    "    kappa_statistic.append(cohen_kappa_score(y_predicted, y_trained_set[test_indices]))\n",
    "\n",
    "print('The average accuracy is:', np.mean(score))\n",
    "print('The average Kappa is:', np.mean(kappa_statistic))"
   ]
  },
  {
   "cell_type": "markdown",
   "metadata": {},
   "source": [
    "# USING SUPPORT VECTOR MACHINES"
   ]
  },
  {
   "cell_type": "markdown",
   "metadata": {},
   "source": [
    "USING THE DATA SET X1 - WITH THE MISSING VALUES (Nan)"
   ]
  },
  {
   "cell_type": "code",
   "execution_count": 20,
   "metadata": {},
   "outputs": [
    {
     "name": "stdout",
     "output_type": "stream",
     "text": [
      "The average accuracy is: 0.6519999999999999\n",
      "The average Kappa is: 0.2886797220354693\n"
     ]
    }
   ],
   "source": [
    "score = []\n",
    "kappa_statistic = []\n",
    "\n",
    "clf = svm.SVC(gamma= 0.0001, C=100)\n",
    "k_fold = KFold(n_splits = 10)\n",
    "\n",
    "for train_indices, test_indices in k_fold.split(x1_transform):\n",
    "    \n",
    "    clf.fit(x1_transform[train_indices], y_trained_set[train_indices])\n",
    "    score.append(clf.score(x1_transform[test_indices], y_trained_set[test_indices]))\n",
    "    \n",
    "    y_predicted = clf.predict(x1_transform[test_indices])\n",
    "    \n",
    "    kappa_statistic.append(cohen_kappa_score(y_predicted, y_trained_set[test_indices]))\n",
    "\n",
    "print('The average accuracy is:', np.mean(score))\n",
    "print('The average Kappa is:', np.mean(kappa_statistic))"
   ]
  },
  {
   "cell_type": "code",
   "execution_count": null,
   "metadata": {},
   "outputs": [],
   "source": []
  },
  {
   "cell_type": "markdown",
   "metadata": {},
   "source": [
    "USING THE DATA SET X2 - WITHOUT THE MISSING VALUES (Nan)"
   ]
  },
  {
   "cell_type": "code",
   "execution_count": 21,
   "metadata": {},
   "outputs": [
    {
     "name": "stdout",
     "output_type": "stream",
     "text": [
      "The average accuracy is: 0.6380000000000001\n",
      "The average Kappa is: 0.2606062979769459\n"
     ]
    }
   ],
   "source": [
    "score = []\n",
    "kappa_statistic = []\n",
    "\n",
    "clf = svm.SVC(gamma= 0.0001, C=100)\n",
    "k_fold = KFold(n_splits = 10)\n",
    "\n",
    "for train_indices, test_indices in k_fold.split(x2_transform):\n",
    "    \n",
    "    clf.fit(x2_transform[train_indices], y_trained_set[train_indices])\n",
    "    score.append(clf.score(x2_transform[test_indices], y_trained_set[test_indices]))\n",
    "    \n",
    "    y_predicted = clf.predict(x2_transform[test_indices])\n",
    "    \n",
    "    kappa_statistic.append(cohen_kappa_score(y_predicted, y_trained_set[test_indices]))\n",
    "\n",
    "print('The average accuracy is:', np.mean(score))\n",
    "print('The average Kappa is:', np.mean(kappa_statistic))"
   ]
  },
  {
   "cell_type": "markdown",
   "metadata": {},
   "source": [
    "USING THE TRANSFORMED DATA SET X1 (MEDIAN) - WITH THE MISSING VALUES (Nan) "
   ]
  },
  {
   "cell_type": "code",
   "execution_count": 22,
   "metadata": {},
   "outputs": [
    {
     "name": "stdout",
     "output_type": "stream",
     "text": [
      "The average accuracy is: 0.6479999999999999\n",
      "The average Kappa is: 0.2802222430943573\n"
     ]
    }
   ],
   "source": [
    "score = []\n",
    "kappa_statistic = []\n",
    "\n",
    "clf = svm.SVC(gamma= 0.0001, C=100)\n",
    "k_fold = KFold(n_splits = 10)\n",
    "\n",
    "for train_indices, test_indices in k_fold.split(x1_transformed):\n",
    "    \n",
    "    clf.fit(x1_transformed[train_indices], y_trained_set[train_indices])\n",
    "    score.append(clf.score(x1_transformed[test_indices], y_trained_set[test_indices]))\n",
    "    \n",
    "    y_predicted = clf.predict(x1_transformed[test_indices])\n",
    "    \n",
    "    kappa_statistic.append(cohen_kappa_score(y_predicted, y_trained_set[test_indices]))\n",
    "\n",
    "print('The average accuracy is:', np.mean(score))\n",
    "print('The average Kappa is:', np.mean(kappa_statistic))"
   ]
  },
  {
   "cell_type": "markdown",
   "metadata": {},
   "source": [
    "USING THE TRANSFORMED DATA SET X1 (MOST FREQUENT) - WITHOUT THE MISSING VALUES (no Nan) "
   ]
  },
  {
   "cell_type": "code",
   "execution_count": 23,
   "metadata": {},
   "outputs": [
    {
     "name": "stdout",
     "output_type": "stream",
     "text": [
      "The average accuracy is: 0.65\n",
      "The average Kappa is: 0.2857351287547772\n"
     ]
    }
   ],
   "source": [
    "score = []\n",
    "kappa_statistic = []\n",
    "\n",
    "clf = svm.SVC(gamma= 0.0001, C=100)\n",
    "k_fold = KFold(n_splits = 10)\n",
    "\n",
    "for train_indices, test_indices in k_fold.split(x1_transformedmode):\n",
    "    \n",
    "    clf.fit(x1_transformedmode[train_indices], y_trained_set[train_indices])\n",
    "    score.append(clf.score(x1_transformedmode[test_indices], y_trained_set[test_indices]))\n",
    "    \n",
    "    y_predicted = clf.predict(x1_transformedmode[test_indices])\n",
    "    \n",
    "    kappa_statistic.append(cohen_kappa_score(y_predicted, y_trained_set[test_indices]))\n",
    "\n",
    "print('The average accuracy is:', np.mean(score))\n",
    "print('The average Kappa is:', np.mean(kappa_statistic))"
   ]
  },
  {
   "cell_type": "markdown",
   "metadata": {},
   "source": [
    "# USING KMEANS CLUSTERING "
   ]
  },
  {
   "cell_type": "markdown",
   "metadata": {},
   "source": [
    "USING THE DATA SET X1 - WITH THE MISSING VALUES (Nan)"
   ]
  },
  {
   "cell_type": "code",
   "execution_count": 24,
   "metadata": {},
   "outputs": [
    {
     "name": "stdout",
     "output_type": "stream",
     "text": [
      "The average accuracy is: 0.6519999999999999\n",
      "The average Kappa is: 0.2886797220354693\n"
     ]
    }
   ],
   "source": [
    "score = []\n",
    "kappa_statistic = []\n",
    "\n",
    "kmeans = KMeans(n_clusters=2, random_state=0).fit(x1_transform)\n",
    "k_fold = KFold(n_splits = 10)\n",
    "\n",
    "for train_indices, test_indices in k_fold.split(x1_transform):\n",
    "    \n",
    "    clf.fit(x1_transform[train_indices], y_trained_set[train_indices])\n",
    "    score.append(clf.score(x1_transform[test_indices], y_trained_set[test_indices]))\n",
    "    \n",
    "    y_predicted = clf.predict(x1_transform[test_indices])\n",
    "    \n",
    "    kappa_statistic.append(cohen_kappa_score(y_predicted, y_trained_set[test_indices]))\n",
    "\n",
    "print('The average accuracy is:', np.mean(score))\n",
    "print('The average Kappa is:', np.mean(kappa_statistic))"
   ]
  },
  {
   "cell_type": "markdown",
   "metadata": {},
   "source": [
    "USING THE TRANSFORMED DATA SET X1 (MEDIAN) - WITH THE MISSING VALUES (Nan) "
   ]
  },
  {
   "cell_type": "code",
   "execution_count": 25,
   "metadata": {},
   "outputs": [
    {
     "name": "stdout",
     "output_type": "stream",
     "text": [
      "The average accuracy is: 0.6479999999999999\n",
      "The average Kappa is: 0.2802222430943573\n"
     ]
    }
   ],
   "source": [
    "score = []\n",
    "kappa_statistic = []\n",
    "\n",
    "kmeans = KMeans(n_clusters=2, random_state=0).fit(x1_transformed)\n",
    "k_fold = KFold(n_splits = 10)\n",
    "\n",
    "for train_indices, test_indices in k_fold.split(x1_transformed):\n",
    "    \n",
    "    clf.fit(x1_transformed[train_indices], y_trained_set[train_indices])\n",
    "    score.append(clf.score(x1_transformed[test_indices], y_trained_set[test_indices]))\n",
    "    \n",
    "    y_predicted = clf.predict(x1_transformed[test_indices])\n",
    "    \n",
    "    kappa_statistic.append(cohen_kappa_score(y_predicted, y_trained_set[test_indices]))\n",
    "\n",
    "print('The average accuracy is:', np.mean(score))\n",
    "print('The average Kappa is:', np.mean(kappa_statistic))"
   ]
  },
  {
   "cell_type": "markdown",
   "metadata": {},
   "source": [
    "USING THE TRANSFORMED DATA SET X1 (MOST FREQUENT) - WITHOUT THE MISSING VALUES (no Nan) "
   ]
  },
  {
   "cell_type": "code",
   "execution_count": 26,
   "metadata": {},
   "outputs": [
    {
     "name": "stdout",
     "output_type": "stream",
     "text": [
      "The average accuracy is: 0.65\n",
      "The average Kappa is: 0.2857351287547772\n"
     ]
    }
   ],
   "source": [
    "score = []\n",
    "kappa_statistic = []\n",
    "\n",
    "kmeans = KMeans(n_clusters=2, random_state=0).fit(x1_transformedmode)\n",
    "k_fold = KFold(n_splits = 10)\n",
    "\n",
    "for train_indices, test_indices in k_fold.split(x1_transformedmode):\n",
    "    \n",
    "    clf.fit(x1_transformedmode[train_indices], y_trained_set[train_indices])\n",
    "    score.append(clf.score(x1_transformedmode[test_indices], y_trained_set[test_indices]))\n",
    "    \n",
    "    y_predicted = clf.predict(x1_transformedmode[test_indices])\n",
    "    \n",
    "    kappa_statistic.append(cohen_kappa_score(y_predicted, y_trained_set[test_indices]))\n",
    "\n",
    "print('The average accuracy is:', np.mean(score))\n",
    "print('The average Kappa is:', np.mean(kappa_statistic))"
   ]
  },
  {
   "cell_type": "markdown",
   "metadata": {},
   "source": [
    "USING THE DATA SET X2 - WITHOUT THE MISSING VALUES (Nan)"
   ]
  },
  {
   "cell_type": "code",
   "execution_count": 27,
   "metadata": {},
   "outputs": [
    {
     "name": "stdout",
     "output_type": "stream",
     "text": [
      "The average accuracy is: 0.6380000000000001\n",
      "The average Kappa is: 0.2606062979769459\n"
     ]
    }
   ],
   "source": [
    "score = []\n",
    "kappa_statistic = []\n",
    "\n",
    "kmeans = KMeans(n_clusters=2, random_state=0).fit(x2_transform)\n",
    "k_fold = KFold(n_splits = 10)\n",
    "\n",
    "for train_indices, test_indices in k_fold.split(x2_transform):\n",
    "    \n",
    "    clf.fit(x2_transform[train_indices], y_trained_set[train_indices])\n",
    "    score.append(clf.score(x2_transform[test_indices], y_trained_set[test_indices]))\n",
    "    \n",
    "    y_predicted = clf.predict(x2_transform[test_indices])\n",
    "    \n",
    "    kappa_statistic.append(cohen_kappa_score(y_predicted, y_trained_set[test_indices]))\n",
    "\n",
    "print('The average accuracy is:', np.mean(score))\n",
    "print('The average Kappa is:', np.mean(kappa_statistic))"
   ]
  },
  {
   "cell_type": "markdown",
   "metadata": {},
   "source": [
    "# USING NEAREST NEIGHBORS - NEAREST CENTROIDS"
   ]
  },
  {
   "cell_type": "markdown",
   "metadata": {},
   "source": [
    "USING THE DATA SET X1 - WITH THE MISSING VALUES (Nan)"
   ]
  },
  {
   "cell_type": "code",
   "execution_count": 28,
   "metadata": {},
   "outputs": [
    {
     "name": "stdout",
     "output_type": "stream",
     "text": [
      "The average accuracy is: 0.524\n",
      "The average Kappa is: 0.04057861132106426\n"
     ]
    }
   ],
   "source": [
    "score = []\n",
    "kappa_statistic = []\n",
    "\n",
    "clf = NearestCentroid()\n",
    "k_fold = KFold(n_splits = 10)\n",
    "\n",
    "for train_indices, test_indices in k_fold.split(x1_transform):\n",
    "    \n",
    "    clf.fit(x1_transform[train_indices], y_trained_set[train_indices])\n",
    "    score.append(clf.score(x1_transform[test_indices], y_trained_set[test_indices]))\n",
    "    \n",
    "    y_predicted = clf.predict(x1_transform[test_indices])\n",
    "    \n",
    "    kappa_statistic.append(cohen_kappa_score(y_predicted, y_trained_set[test_indices]))\n",
    "\n",
    "print('The average accuracy is:', np.mean(score))\n",
    "print('The average Kappa is:', np.mean(kappa_statistic))"
   ]
  },
  {
   "cell_type": "markdown",
   "metadata": {},
   "source": [
    "USING THE TRANSFORMED DATA SET X1 (MEDIAN) - WITH THE MISSING VALUES (Nan) "
   ]
  },
  {
   "cell_type": "code",
   "execution_count": 29,
   "metadata": {},
   "outputs": [
    {
     "name": "stdout",
     "output_type": "stream",
     "text": [
      "The average accuracy is: 0.524\n",
      "The average Kappa is: 0.04057861132106426\n"
     ]
    }
   ],
   "source": [
    "score = []\n",
    "kappa_statistic = []\n",
    "\n",
    "clf = NearestCentroid()\n",
    "k_fold = KFold(n_splits = 10)\n",
    "\n",
    "for train_indices, test_indices in k_fold.split(x1_transformed):\n",
    "    \n",
    "    clf.fit(x1_transformed[train_indices], y_trained_set[train_indices])\n",
    "    score.append(clf.score(x1_transformed[test_indices], y_trained_set[test_indices]))\n",
    "    \n",
    "    y_predicted = clf.predict(x1_transformed[test_indices])\n",
    "    \n",
    "    kappa_statistic.append(cohen_kappa_score(y_predicted, y_trained_set[test_indices]))\n",
    "\n",
    "print('The average accuracy is:', np.mean(score))\n",
    "print('The average Kappa is:', np.mean(kappa_statistic))"
   ]
  },
  {
   "cell_type": "markdown",
   "metadata": {},
   "source": [
    "USING THE TRANSFORMED DATA SET X1 (MOST FREQUENT) - WITHOUT THE MISSING VALUES (no Nan) "
   ]
  },
  {
   "cell_type": "code",
   "execution_count": 30,
   "metadata": {},
   "outputs": [
    {
     "name": "stdout",
     "output_type": "stream",
     "text": [
      "The average accuracy is: 0.524\n",
      "The average Kappa is: 0.04057861132106426\n"
     ]
    }
   ],
   "source": [
    "score = []\n",
    "kappa_statistic = []\n",
    "\n",
    "clf = NearestCentroid()\n",
    "k_fold = KFold(n_splits = 10)\n",
    "\n",
    "for train_indices, test_indices in k_fold.split(x1_transformedmode):\n",
    "    \n",
    "    clf.fit(x1_transformedmode[train_indices], y_trained_set[train_indices])\n",
    "    score.append(clf.score(x1_transformedmode[test_indices], y_trained_set[test_indices]))\n",
    "    \n",
    "    y_predicted = clf.predict(x1_transformedmode[test_indices])\n",
    "    \n",
    "    kappa_statistic.append(cohen_kappa_score(y_predicted, y_trained_set[test_indices]))\n",
    "\n",
    "print('The average accuracy is:', np.mean(score))\n",
    "print('The average Kappa is:', np.mean(kappa_statistic))"
   ]
  },
  {
   "cell_type": "markdown",
   "metadata": {},
   "source": [
    "USING THE DATA SET X2 - WITHOUT THE MISSING VALUES(Nan)"
   ]
  },
  {
   "cell_type": "code",
   "execution_count": 31,
   "metadata": {},
   "outputs": [
    {
     "name": "stdout",
     "output_type": "stream",
     "text": [
      "The average accuracy is: 0.524\n",
      "The average Kappa is: 0.04057861132106426\n"
     ]
    }
   ],
   "source": [
    "score = []\n",
    "kappa_statistic = []\n",
    "\n",
    "clf = NearestCentroid()\n",
    "k_fold = KFold(n_splits = 10)\n",
    "\n",
    "for train_indices, test_indices in k_fold.split(x2_transform):\n",
    "    \n",
    "    clf.fit(x2_transform[train_indices], y_trained_set[train_indices])\n",
    "    score.append(clf.score(x2_transform[test_indices], y_trained_set[test_indices]))\n",
    "    \n",
    "    y_predicted = clf.predict(x2_transform[test_indices])\n",
    "    \n",
    "    kappa_statistic.append(cohen_kappa_score(y_predicted, y_trained_set[test_indices]))\n",
    "\n",
    "print('The average accuracy is:', np.mean(score))\n",
    "print('The average Kappa is:', np.mean(kappa_statistic))"
   ]
  },
  {
   "cell_type": "markdown",
   "metadata": {},
   "source": [
    "# THE TEST DATA"
   ]
  },
  {
   "cell_type": "markdown",
   "metadata": {},
   "source": [
    "READING THE TEST SET CSV"
   ]
  },
  {
   "cell_type": "code",
   "execution_count": 32,
   "metadata": {},
   "outputs": [],
   "source": [
    "test_set = pd.read_csv('CE802_Ass_2019_Test.csv')\n",
    "x1_test_set = test_set.iloc[:,:-1]\n",
    "x2_test_set = test_set.iloc[:,:-2]\n",
    "y_test_set = test_set.iloc[:,:-1].astype(str)"
   ]
  },
  {
   "cell_type": "markdown",
   "metadata": {},
   "source": [
    "TRANSFORM X1 TEST TEST WITH MEAN VALUE\n"
   ]
  },
  {
   "cell_type": "code",
   "execution_count": 33,
   "metadata": {},
   "outputs": [],
   "source": [
    "from sklearn.impute import SimpleImputer\n",
    "imp = SimpleImputer(missing_values = np.nan, strategy = 'mean')\n",
    "imp.fit(x1_test_set)\n",
    "imp2 = SimpleImputer(missing_values = np.nan, strategy = 'mean')\n",
    "imp2.fit(x2_test_set)\n",
    "x1_transform_test_set = imp.transform(x1_test_set)"
   ]
  },
  {
   "cell_type": "markdown",
   "metadata": {},
   "source": [
    "TRANSFORM X2 TEST TEST"
   ]
  },
  {
   "cell_type": "code",
   "execution_count": 34,
   "metadata": {},
   "outputs": [],
   "source": [
    "x2_transform_test_set = imp2.transform(x2_test_set)"
   ]
  },
  {
   "cell_type": "code",
   "execution_count": 35,
   "metadata": {},
   "outputs": [],
   "source": [
    "#THAT IS WE WILL USE X1(mode) TEST SET AS THE PREDICTOR VALUE FOR Y \n",
    "\n",
    "#kmeans = KMeans(n_clusters=2, random_state=0).fit(x1_transform)\n",
    "#kmeans.fit(x1_transform, y_trained_set)\n",
    "\n",
    "clf = svm.SVC(gamma= 0.0001, C=100)\n",
    "clf.fit(x1_transform, y_trained_set)\n",
    "\n",
    "Prediction_Y = clf.predict(x1_transform_test_set)\n",
    "df_bool = pd.DataFrame(Prediction_Y)\n",
    "#df_bool"
   ]
  },
  {
   "cell_type": "code",
   "execution_count": 36,
   "metadata": {},
   "outputs": [],
   "source": [
    "# EXPORTING THE PREDICTION DATA FRAME\n",
    "test_transform_data = pd.DataFrame(x1_transform_test_set)\n",
    "test_transform_data[\"Prediction_Y\"] = Prediction_Y\n",
    "test_transform_data\n",
    "\n",
    "test_transform_data.to_csv(\"/Users/preciousakinyele/Documents/AUTUMN/CE 802/Prediction.csv\", sep=\",\")"
   ]
  },
  {
   "cell_type": "code",
   "execution_count": null,
   "metadata": {},
   "outputs": [],
   "source": []
  },
  {
   "cell_type": "code",
   "execution_count": null,
   "metadata": {},
   "outputs": [],
   "source": []
  },
  {
   "cell_type": "code",
   "execution_count": null,
   "metadata": {},
   "outputs": [],
   "source": []
  },
  {
   "cell_type": "code",
   "execution_count": null,
   "metadata": {},
   "outputs": [],
   "source": []
  }
 ],
 "metadata": {
  "kernelspec": {
   "display_name": "Python 3",
   "language": "python",
   "name": "python3"
  },
  "language_info": {
   "codemirror_mode": {
    "name": "ipython",
    "version": 3
   },
   "file_extension": ".py",
   "mimetype": "text/x-python",
   "name": "python",
   "nbconvert_exporter": "python",
   "pygments_lexer": "ipython3",
   "version": "3.7.4"
  }
 },
 "nbformat": 4,
 "nbformat_minor": 2
}
